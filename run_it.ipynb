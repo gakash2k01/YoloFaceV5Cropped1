{
 "cells": [
  {
   "cell_type": "code",
   "execution_count": 13,
   "metadata": {},
   "outputs": [
    {
     "name": "stdout",
     "output_type": "stream",
     "text": [
      "/home/akash/Documents/learning/YOLO_V5_based_Face_Recognition/YoloFaceV5Cropped\n"
     ]
    }
   ],
   "source": [
    "%matplotlib inline \n",
    "import os \n",
    "ROOT_DIR = os.getcwd()\n",
    "os.path.join(ROOT_DIR)\n",
    "print(ROOT_DIR)"
   ]
  },
  {
   "cell_type": "markdown",
   "metadata": {},
   "source": [
    "### Should be in Bosch Directory"
   ]
  },
  {
   "cell_type": "code",
   "execution_count": 14,
   "metadata": {
    "scrolled": true
   },
   "outputs": [
    {
     "name": "stdout",
     "output_type": "stream",
     "text": [
      "/home/akash/Documents/learning/YOLO_V5_based_Face_Recognition/YoloFaceV5Cropped\n"
     ]
    }
   ],
   "source": [
    "%cd {ROOT_DIR}"
   ]
  },
  {
   "cell_type": "code",
   "execution_count": 15,
   "metadata": {},
   "outputs": [],
   "source": [
    "import torch\n",
    "import cv2\n",
    "import numpy as np\n",
    "import pandas as pd\n",
    "import time\n",
    "import torchvision.transforms as transforms\n",
    "import matplotlib.pyplot as plt\n",
    "from torch import nn"
   ]
  },
  {
   "cell_type": "code",
   "execution_count": 16,
   "metadata": {},
   "outputs": [
    {
     "name": "stdout",
     "output_type": "stream",
     "text": [
      "Image saved!\n"
     ]
    }
   ],
   "source": [
    "import cv2 \n",
    "\n",
    "key = cv2.waitKey(1)\n",
    "webcam = cv2.VideoCapture(0)\n",
    "while True:\n",
    "    try:\n",
    "        check, frame = webcam.read()\n",
    "        cv2.imshow(\"Capturing\", frame)\n",
    "        key = cv2.waitKey(1)\n",
    "        if key == ord('s'): \n",
    "            cv2.imwrite(filename=f'{ROOT_DIR}/data/images/test.jpg', img=frame)\n",
    "            webcam.release()\n",
    "            img_new = cv2.imread(f'{ROOT_DIR}/data/images/test.jpg', cv2.COLOR_BGR2RGB)\n",
    "            img_new = cv2.imshow(\"Captured Image\", img_new)\n",
    "            cv2.waitKey(1650)\n",
    "            cv2.destroyAllWindows()\n",
    "            print(\"Image saved!\")\n",
    "            break\n",
    "        elif key == ord('q'):\n",
    "            print(\"Turning off camera.\")\n",
    "            webcam.release()\n",
    "            print(\"Camera off.\")\n",
    "            print(\"Program ended.\")\n",
    "            cv2.destroyAllWindows()\n",
    "            break\n",
    "        \n",
    "    except(KeyboardInterrupt):\n",
    "        print(\"Turning off camera.\")\n",
    "        webcam.release()\n",
    "        print(\"Camera off.\")\n",
    "        print(\"Program ended.\")\n",
    "        cv2.destroyAllWindows()\n",
    "        break"
   ]
  },
  {
   "cell_type": "code",
   "execution_count": 17,
   "metadata": {},
   "outputs": [
    {
     "name": "stdout",
     "output_type": "stream",
     "text": [
      "/home/akash/Documents/learning/YOLO_V5_based_Face_Recognition/YoloFaceV5Cropped\n",
      "Namespace(image='/home/akash/Documents/learning/YOLO_V5_based_Face_Recognition/YoloFaceV5Cropped/data/images/test.jpg', img_size=640, weights=['weights/face5.pt'])\n",
      "cpu\n",
      "Fusing layers... \n",
      "Reached here\n",
      "NUMBER OF FACES=  1\n",
      "Shape is: 3\n",
      "Path is  /home/akash/Documents/learning/YOLO_V5_based_Face_Recognition/YoloFaceV5Cropped/data/temp/faces/test_1.jpg\n",
      "/home/akash/Documents/learning/YOLO_V5_based_Face_Recognition/YoloFaceV5Cropped\n",
      "Shape is: 4\n",
      "Path is  /home/akash/Documents/learning/YOLO_V5_based_Face_Recognition/YoloFaceV5Cropped/data/temp/faces/test_2.jpg\n",
      "Traceback (most recent call last):\n",
      "  File \"detect.py\", line 190, in <module>\n",
      "    detect_one(model, opt.image, device)\n",
      "  File \"detect.py\", line 172, in detect_one\n",
      "    save_image(save_path,im_ind, xywh,img)\n",
      "  File \"detect.py\", line 95, in save_image\n",
      "    cv2.imwrite(put_here,img)\n",
      "cv2.error: OpenCV(4.6.0) :-1: error: (-5:Bad argument) in function 'imwrite'\n",
      "> Overload resolution failed:\n",
      ">  - img is not a numpy array, neither a scalar\n",
      ">  - Expected Ptr<cv::UMat> for argument 'img'\n",
      "\n"
     ]
    }
   ],
   "source": [
    "path_to_file=ROOT_DIR + '/output/bbox_file.txt'\n",
    "if not os.path.exists(ROOT_DIR + '/output'):\n",
    "  os.mkdir(ROOT_DIR + '/output')\n",
    "with open(path_to_file, 'w'):\n",
    "    pass\n",
    "big_image_list=[]\n",
    "big_face_id=[]\n",
    "big_bbox_list=[]\n",
    "\n",
    "device = 'cuda' if torch.cuda.is_available() else 'cpu'\n",
    "\n",
    "image_size=128\n",
    "test_transforms = transforms.Compose([transforms.ToPILImage(),\n",
    "                                     transforms.Resize((image_size,image_size)),\n",
    "                                     transforms.ToTensor(),\n",
    "                                     transforms.Normalize([0.5,0.5,0.5],\n",
    "                                                          [0.5,0.5,0.5])])\n",
    "\n",
    "\n",
    "##loading yolo weights\n",
    "#options available : 5l-face.pt,5m-face,5s-face.pt\n",
    "weight='face5.pt'\n",
    "\n",
    "root_data_path=ROOT_DIR + '/data'\n",
    "dataset_path=root_data_path+'/images' ## set path of to-be-tested images\n",
    "temp_storage=root_data_path+'/temp'\n",
    "cropped_faces_path=temp_storage+'/faces'\n",
    "_,_,target_image_files=next(os.walk(dataset_path))\n",
    "\n",
    "#create a text file to write bboxes\n",
    "for image_file in target_image_files:#takes 1 image\n",
    "    if not os.path.exists(cropped_faces_path):\n",
    "      os.mkdir(temp_storage)\n",
    "      os.mkdir(cropped_faces_path)\n",
    "    original_image_file_path=dataset_path+'/'+image_file\n",
    "    before_image=cv2.imread(original_image_file_path)\n",
    "    before_image = cv2.cvtColor(before_image, cv2.COLOR_BGR2RGB)\n",
    "    \n",
    "  # face detector\n",
    "    %cd {ROOT_DIR}\n",
    "    !python detect.py --weights weights/{weight} --image {original_image_file_path} \n",
    "# os.remove(original_image_file_path)"
   ]
  },
  {
   "cell_type": "code",
   "execution_count": 18,
   "metadata": {},
   "outputs": [
    {
     "name": "stdout",
     "output_type": "stream",
     "text": [
      "Identified: Akash\n",
      "Identified: Amarsh\n",
      "Identified: Bradley\n",
      "Identified: Krish\n",
      "Identified: Akshay\n",
      "Identified: Deepak\n",
      "Identified: Aman Harsh\n"
     ]
    }
   ],
   "source": [
    "import face_recognition\n",
    "\n",
    "file = open(ROOT_DIR + '/dataset/Identities.txt','r')\n",
    "image = []\n",
    "face_encoding = []\n",
    "names = []\n",
    "i = 0\n",
    "for name in file.read().splitlines():\n",
    "    print(\"Identified:\",name)\n",
    "    names.append(name)\n",
    "    image.append(face_recognition.load_image_file(f\"dataset/{name}/{name}.jpg\"))\n",
    "    face_encoding.append(face_recognition.face_encodings(image[i])[0])\n",
    "    i += 1\n",
    "known_face_encodings = face_encoding\n",
    "known_face_names = names\n",
    "\n",
    "# Initialize some variables\n",
    "face_locations = []\n",
    "face_encodings = []\n",
    "face_names = []\n",
    "crop_path = f'{ROOT_DIR}/data/temp/faces/test_1.jpg'\n",
    "frame = cv2.imread(crop_path)\n",
    "\n",
    "# Resize frame of video to 1/4 size for faster face recognition processing\n",
    "small_frame = cv2.resize(frame, (0, 0), fx=0.25, fy=0.25)\n",
    "\n",
    "# Convert the image from BGR color (which OpenCV uses) to RGB color (which face_recognition uses)\n",
    "rgb_small_frame = small_frame[:, :, ::-1]\n",
    "\n",
    "# Find all the faces and face encodings in the current frame of video\n",
    "face_locations = face_recognition.face_locations(rgb_small_frame)\n",
    "face_encodings = face_recognition.face_encodings(rgb_small_frame, face_locations)\n",
    "\n",
    "face_names = []\n",
    "for face_encoding in face_encodings:\n",
    "    # See if the face is a match for the known face(s)\n",
    "    matches = face_recognition.compare_faces(known_face_encodings, face_encoding)\n",
    "    name = \"Unknown\"\n",
    "\n",
    "    # Or instead, use the known face with the smallest distance to the new face\n",
    "    face_distances = face_recognition.face_distance(known_face_encodings, face_encoding)\n",
    "    best_match_index = np.argmin(face_distances)\n",
    "    if matches[best_match_index]:\n",
    "        name = known_face_names[best_match_index]\n",
    "\n",
    "    face_names.append(name)\n",
    "\n",
    "\n",
    "# Display the results\n",
    "for (top, right, bottom, left), name in zip(face_locations, face_names):\n",
    "    # Scale back up face locations since the frame we detected in was scaled to 1/4 size\n",
    "    top *= 4\n",
    "    right *= 4\n",
    "    bottom *= 4\n",
    "    left *= 4\n",
    "\n",
    "    # Draw a box around the face\n",
    "    cv2.rectangle(frame, (left, top), (right, bottom), (0, 0, 255), 2)\n",
    "\n",
    "    # Draw a label with a name below the face\n",
    "    cv2.rectangle(frame, (left, bottom - 35), (right, bottom), (0, 0, 255), cv2.FILLED)\n",
    "    font = cv2.FONT_HERSHEY_DUPLEX\n",
    "    cv2.putText(frame, name, (left + 6, bottom - 6), font, 1.0, (255, 255, 255), 1)\n",
    "\n",
    "# Display the resulting image\n",
    "\n",
    "cv2.imshow('Identity', frame)\n",
    "cv2.waitKey(5000)\n",
    "cv2.destroyAllWindows()"
   ]
  },
  {
   "cell_type": "code",
   "execution_count": 19,
   "metadata": {},
   "outputs": [
    {
     "name": "stdout",
     "output_type": "stream",
     "text": [
      "/home/akash/Documents/learning/YOLO_V5_based_Face_Recognition/YoloFaceV5Cropped\n"
     ]
    }
   ],
   "source": [
    "!pwd"
   ]
  },
  {
   "cell_type": "code",
   "execution_count": null,
   "metadata": {},
   "outputs": [],
   "source": []
  }
 ],
 "metadata": {
  "kernelspec": {
   "display_name": "Python 3.8.0 ('test3')",
   "language": "python",
   "name": "python3"
  },
  "language_info": {
   "codemirror_mode": {
    "name": "ipython",
    "version": 3
   },
   "file_extension": ".py",
   "mimetype": "text/x-python",
   "name": "python",
   "nbconvert_exporter": "python",
   "pygments_lexer": "ipython3",
   "version": "3.8.13"
  },
  "vscode": {
   "interpreter": {
    "hash": "66fd9b5bfc716cbd8f72e9432e98c22e2ef4359f12fce6cae8f094f8defbcf51"
   }
  }
 },
 "nbformat": 4,
 "nbformat_minor": 2
}
